{
 "cells": [
  {
   "cell_type": "code",
   "execution_count": 121,
   "metadata": {},
   "outputs": [],
   "source": [
    "from mesa import Agent, Model\n",
    "from mesa.space import MultiGrid\n",
    "from mesa.time import RandomActivation\n",
    "import matplotlib.pyplot as plt\n",
    "import numpy as np\n",
    "%matplotlib inline"
   ]
  },
  {
   "cell_type": "code",
   "execution_count": 122,
   "metadata": {},
   "outputs": [],
   "source": [
    "class Lobo(Agent):\n",
    "    # Agentes que se comen a las ovejas.\n",
    "    def __init__(self, unique_id, pos,e,prob_rep,model):\n",
    "        # la clase agente guarda los ids y los enlaza con el modelo \n",
    "        super().__init__(unique_id,model)\n",
    "        # lobos tienen energia, una posicion y una probabilidad de reproducirse\n",
    "        self.energia = e \n",
    "        self.pos = pos\n",
    "        self.prob_rep = prob_rep\n",
    "    \n",
    "    def move(self):\n",
    "        # get_neighbourhood es utilidad de mesa pa devolver los vecinos\n",
    "        possible_steps = self.model.grid.get_neighborhood(\n",
    "            self.pos,\n",
    "            moore=False,\n",
    "            include_center=False)\n",
    "        new_position = self.random.choice(possible_steps)\n",
    "        self.model.grid.move_agent(self, new_position)\n",
    "        \n",
    "    def step(self):\n",
    "        self.move()\n",
    "         \n",
    "        # comerse alguna oveja que este en su grilla \n",
    "        cellmates = self.model.grid.get_cell_list_contents([self.pos])\n",
    "        sheep = [obj for obj in cellmates if isinstance(obj, Oveja)]\n",
    "        if len(sheep)>0: \n",
    "            victima = self.random.choice(sheep)\n",
    "            self.model.grid._remove_agent(self.pos, victima)\n",
    "            self.model.schedule.remove(victima)\n",
    "            self.energia += 10\n",
    "            \n",
    "        # tener hijos           \n",
    "        if self.model.random.randint(1,10) < self.prob_rep:  #\n",
    "            self.energia /= 2\n",
    "            hijo = Lobo(self.model.next_id(),self.pos,self.energia,self.prob_rep,self.model)\n",
    "            self.model.grid.place_agent(hijo, hijo.pos)\n",
    "            self.model.schedule.add(hijo)\n",
    "            \n",
    "        #si no tengo energia, muero \n",
    "        self.energia -= 1\n",
    "        if self.energia < 1: \n",
    "            self.model.grid._remove_agent(self.pos, self)\n",
    "            self.model.schedule.remove(self)\n",
    "            return\n",
    "        \n"
   ]
  },
  {
   "cell_type": "code",
   "execution_count": 123,
   "metadata": {},
   "outputs": [],
   "source": [
    "class Oveja(Agent):\n",
    "    def __init__(self, unique_id,pos,prob_rep, model):\n",
    "        super().__init__(unique_id, model)\n",
    "        self.pos = pos\n",
    "        self.prob_rep = prob_rep\n",
    "\n",
    "    def move(self):\n",
    "        possible_steps = self.model.grid.get_neighborhood(\n",
    "            self.pos,\n",
    "            moore=False,\n",
    "            include_center=False)\n",
    "        new_position = self.random.choice(possible_steps)\n",
    "        self.model.grid.move_agent(self, new_position)\n",
    "        \n",
    "    def step(self):\n",
    "        self.move()\n",
    "            \n",
    "        if self.model.random.randint(1,10) < self.prob_rep:  #probabilidad de reproducirse \n",
    "            hija = Oveja(self.model.next_id(),self.pos,self.prob_rep,self.model)\n",
    "            self.model.grid.place_agent(hija, hija.pos)\n",
    "            self.model.schedule.add(hija)\n",
    "            "
   ]
  },
  {
   "cell_type": "code",
   "execution_count": 124,
   "metadata": {},
   "outputs": [],
   "source": [
    "class Lobooveja(Model):\n",
    "    def __init__(self, N,M, width, height, p_rep_l,p_rep_o):\n",
    "        self.num_lobos = N\n",
    "        self.num_ovejas = M\n",
    "        self.grid = MultiGrid(width, height, True)\n",
    "        self.schedule = RandomActivation(self)\n",
    "        self.current_id = 0\n",
    "        # Create agents\n",
    "        for i in range(self.num_lobos):\n",
    "            x = self.random.randrange(self.grid.width)\n",
    "            y = self.random.randrange(self.grid.height)\n",
    "            l = Lobo(self.next_id(),(x,y),15,p_rep_l,self) # 15 es la energía \n",
    "            self.schedule.add(l)\n",
    "            # Add the agent to a random grid cell\n",
    "            self.grid.place_agent(l, (x, y))\n",
    "        # Create agents\n",
    "        for i in range(self.num_ovejas):\n",
    "            x = self.random.randrange(self.grid.width)\n",
    "            y = self.random.randrange(self.grid.height)\n",
    "            o = Oveja(self.next_id(),(x,y),p_rep_o,self)\n",
    "            self.schedule.add(o)\n",
    "            # Add the agent to a random grid cell\n",
    "            self.grid.place_agent(o, (x, y))      \n",
    "\n",
    "    def step(self):\n",
    "        self.schedule.step()\n",
    "        "
   ]
  },
  {
   "cell_type": "code",
   "execution_count": 97,
   "metadata": {
    "collapsed": true
   },
   "outputs": [
    {
     "ename": "TypeError",
     "evalue": "__init__() missing 2 required positional arguments: 'p_rep_l' and 'p_rep_o'",
     "output_type": "error",
     "traceback": [
      "\u001b[0;31m---------------------------------------------------------------------------\u001b[0m",
      "\u001b[0;31mTypeError\u001b[0m                                 Traceback (most recent call last)",
      "\u001b[0;32m<ipython-input-97-ba92f8bee2d8>\u001b[0m in \u001b[0;36m<module>\u001b[0;34m\u001b[0m\n\u001b[1;32m     13\u001b[0m     \u001b[0movejas\u001b[0m\u001b[0;34m.\u001b[0m\u001b[0mappend\u001b[0m\u001b[0;34m(\u001b[0m\u001b[0;34m[\u001b[0m\u001b[0;34m]\u001b[0m\u001b[0;34m)\u001b[0m\u001b[0;34m\u001b[0m\u001b[0;34m\u001b[0m\u001b[0m\n\u001b[1;32m     14\u001b[0m     \u001b[0mlobos\u001b[0m\u001b[0;34m.\u001b[0m\u001b[0mappend\u001b[0m\u001b[0;34m(\u001b[0m\u001b[0;34m[\u001b[0m\u001b[0;34m]\u001b[0m\u001b[0;34m)\u001b[0m\u001b[0;34m\u001b[0m\u001b[0;34m\u001b[0m\u001b[0m\n\u001b[0;32m---> 15\u001b[0;31m     \u001b[0mmodel\u001b[0m \u001b[0;34m=\u001b[0m \u001b[0mLobooveja\u001b[0m\u001b[0;34m(\u001b[0m\u001b[0mN\u001b[0m\u001b[0;34m,\u001b[0m\u001b[0mM\u001b[0m\u001b[0;34m,\u001b[0m \u001b[0;36m10\u001b[0m\u001b[0;34m,\u001b[0m \u001b[0;36m10\u001b[0m\u001b[0;34m)\u001b[0m\u001b[0;34m\u001b[0m\u001b[0;34m\u001b[0m\u001b[0m\n\u001b[0m\u001b[1;32m     16\u001b[0m     \u001b[0;32mfor\u001b[0m \u001b[0mi\u001b[0m \u001b[0;32min\u001b[0m \u001b[0mrange\u001b[0m\u001b[0;34m(\u001b[0m\u001b[0mT\u001b[0m\u001b[0;34m)\u001b[0m\u001b[0;34m:\u001b[0m\u001b[0;34m\u001b[0m\u001b[0;34m\u001b[0m\u001b[0m\n\u001b[1;32m     17\u001b[0m         \u001b[0mmodel\u001b[0m\u001b[0;34m.\u001b[0m\u001b[0mstep\u001b[0m\u001b[0;34m(\u001b[0m\u001b[0;34m)\u001b[0m\u001b[0;34m\u001b[0m\u001b[0;34m\u001b[0m\u001b[0m\n",
      "\u001b[0;31mTypeError\u001b[0m: __init__() missing 2 required positional arguments: 'p_rep_l' and 'p_rep_o'"
     ]
    }
   ],
   "source": [
    "T = 200 #horizonte temporal\n",
    "N = 30 # número de lobos\n",
    "M = 10 # número de ovejas \n",
    "\n",
    "#tamaño de la grilla\n",
    "width = 10  \n",
    "heigh = 10 \n",
    "\n",
    "ovejas = []\n",
    "lobos = []\n",
    "\n",
    "for j in range(4): #4 modelos distintos \n",
    "    ovejas.append([])\n",
    "    lobos.append([])\n",
    "    model = Lobooveja(N,M, 10, 10)\n",
    "    for i in range(T):\n",
    "        model.step()\n",
    "        ovejas[j].append(0)\n",
    "        lobos[j].append(0)\n",
    "        for a in model.schedule.agents:\n",
    "            if isinstance(a,Oveja): \n",
    "                ovejas[j][i]+=1\n",
    "            else:\n",
    "                lobos[j][i]+=1"
   ]
  },
  {
   "cell_type": "markdown",
   "metadata": {},
   "source": [
    "# Variar Prob de Rep de los Lobos"
   ]
  },
  {
   "cell_type": "code",
   "execution_count": 132,
   "metadata": {
    "collapsed": true
   },
   "outputs": [
    {
     "name": "stdout",
     "output_type": "stream",
     "text": [
      "0\n",
      "1\n",
      "2\n",
      "3\n",
      "4\n",
      "5\n",
      "6\n",
      "7\n",
      "8\n",
      "9\n",
      "10\n",
      "11\n",
      "12\n",
      "13\n",
      "14\n",
      "15\n",
      "16\n",
      "17\n",
      "18\n",
      "19\n"
     ]
    }
   ],
   "source": [
    "## VARIAR PROB DE REPRODUCCIÓN LOBOS\n",
    "\n",
    "T = 200 #horizonte temporal\n",
    "N = 30 # número de lobos\n",
    "M = 10 # número de ovejas \n",
    "\n",
    "#tamaño de la grilla\n",
    "width = 10  \n",
    "heigh = 10 \n",
    "\n",
    "ovejas1= []\n",
    "lobos1 = []\n",
    "\n",
    "P = np.array(range(0,100,5))/10\n",
    "\n",
    "for i in range(len(P)):\n",
    "    print(i)\n",
    "    p_rep = P[i]\n",
    "    ovejas1.append([])\n",
    "    lobos1.append([])\n",
    "    for j in range(200):#30 modelos distintos \n",
    "        ovejas1[i].append([])\n",
    "        lobos1[i].append([])\n",
    "        model = Lobooveja(N,M, 10, 10,p_rep,3)\n",
    "        for k in range(T):\n",
    "            model.step()\n",
    "            ovejas1[i][j].append(0)\n",
    "            lobos1[i][j].append(0)\n",
    "            for a in model.schedule.agents:\n",
    "                if isinstance(a,Oveja): \n",
    "                    ovejas1[i][j][k]+=1\n",
    "                else:\n",
    "                    lobos1[i][j][k]+=1\n",
    "                    \n",
    "            if (ovejas1[i][j][k]>1000) or (lobos1[i][j][k]>1000):\n",
    "                break\n",
    "                \n",
    "        if len(ovejas1[i][j])<200: #extiende listas que fueron cortadas\n",
    "            ovejas1[i][j].extend(list(np.nan * np.array(range(200 - len(ovejas1[i][j])))))\n",
    "           # print(i,j,len(ovejas1[i][j]))\n",
    "                \n",
    "        if len(lobos1[i][j])<200: #extiende listas que fueron cortadas\n",
    "            lobos1[i][j].extend(list(np.nan * np.array(range(200 - len(lobos1[i][j])))))\n",
    "                \n",
    "#            print(i,j,k,ovejas[i][j][k],lobos[i][j][k])"
   ]
  },
  {
   "cell_type": "code",
   "execution_count": 146,
   "metadata": {},
   "outputs": [],
   "source": [
    "lobos = []\n",
    "ovejas = []\n",
    "\n",
    "for i in range(len(P)):\n",
    "    lobos.append([])\n",
    "    ovejas.append([])\n",
    "    \n",
    "    lobos_i = np.array(lobos1[i])\n",
    "    ovejas_i = np.array(ovejas1[i])\n",
    "    \n",
    "    av_lobos_i = np.nanmean(lobos_i,axis=0)\n",
    "    lobos[i]=av_lobos_i\n",
    "    \n",
    "    av_ovejas_i = np.nanmean(ovejas_i,axis=0)\n",
    "    ovejas[i]=av_ovejas_i\n",
    "\n"
   ]
  },
  {
   "cell_type": "code",
   "execution_count": 154,
   "metadata": {},
   "outputs": [
    {
     "data": {
      "text/plain": [
       "<matplotlib.legend.Legend at 0x1e8258d90>"
      ]
     },
     "execution_count": 154,
     "metadata": {},
     "output_type": "execute_result"
    },
    {
     "data": {
      "image/png": "[encoded data removed]",
      "text/plain": [
       "<Figure size 432x288 with 4 Axes>"
      ]
     },
     "metadata": {
      "needs_background": "light"
     },
     "output_type": "display_data"
    }
   ],
   "source": [
    "plt.subplot(2,3,1)\n",
    "plt.plot(ovejas[2], label = \"ovejas\")\n",
    "plt.plot(lobos[2], label = \"lobos\")\n",
    "plt.title('0.1')\n",
    "plt.legend()\n",
    "\n",
    "plt.subplot(2,2,2)\n",
    "plt.plot(ovejas[5], label = \"ovejas\")\n",
    "plt.plot(lobos[5], label = \"lobos\")\n",
    "plt.title('0.25')\n",
    "plt.legend()\n",
    "\n",
    "plt.subplot(2,2,3)\n",
    "plt.plot(ovejas[10], label = \"ovejas\")\n",
    "plt.plot(lobos[10], label = \"lobos\")\n",
    "plt.title('0.5')\n",
    "plt.legend()\n",
    "\n",
    "plt.subplot(2,2,4)\n",
    "plt.plot(ovejas[15], label = \"ovejas\")\n",
    "plt.plot(lobos[15], label = \"lobos\")\n",
    "plt.title('0.75')\n",
    "plt.legend()"
   ]
  },
  {
   "cell_type": "markdown",
   "metadata": {},
   "source": [
    "# Variar Prob de Rep de las Ovejas"
   ]
  },
  {
   "cell_type": "code",
   "execution_count": 151,
   "metadata": {
    "collapsed": true
   },
   "outputs": [
    {
     "name": "stdout",
     "output_type": "stream",
     "text": [
      "0\n",
      "1\n",
      "2\n",
      "3\n",
      "4\n",
      "5\n",
      "6\n",
      "7\n",
      "8\n",
      "9\n",
      "10\n",
      "11\n",
      "12\n",
      "13\n",
      "14\n",
      "15\n",
      "16\n",
      "17\n",
      "18\n",
      "19\n"
     ]
    }
   ],
   "source": [
    "## VARIAR PROB DE REPRODUCCIÓN OVEJAS\n",
    "\n",
    "T = 200 #horizonte temporal\n",
    "N = 30 # número de lobos\n",
    "M = 10 # número de ovejas \n",
    "\n",
    "#tamaño de la grilla\n",
    "width = 10  \n",
    "heigh = 10 \n",
    "\n",
    "ovejas2= []\n",
    "lobos2 = []\n",
    "\n",
    "P = np.array(range(0,100,5))/10\n",
    "\n",
    "for i in range(len(P)):\n",
    "    print(i)\n",
    "    p_rep = P[i]\n",
    "    ovejas2.append([])\n",
    "    lobos2.append([])\n",
    "    for j in range(200):#30 modelos distintos \n",
    "        ovejas2[i].append([])\n",
    "        lobos2[i].append([])\n",
    "        model = Lobooveja(N,M, 10, 10,3,p_rep)\n",
    "        for k in range(T):\n",
    "            model.step()\n",
    "            ovejas2[i][j].append(0)\n",
    "            lobos2[i][j].append(0)\n",
    "            for a in model.schedule.agents:\n",
    "                if isinstance(a,Oveja): \n",
    "                    ovejas2[i][j][k]+=1\n",
    "                else:\n",
    "                    lobos2[i][j][k]+=1\n",
    "                    \n",
    "            if (ovejas2[i][j][k]>1000) or (lobos2[i][j][k]>1000):\n",
    "                break\n",
    "                \n",
    "        if len(ovejas2[i][j])<200: #extiende listas que fueron cortadas\n",
    "            ovejas2[i][j].extend(list(np.nan * np.array(range(200 - len(ovejas2[i][j])))))\n",
    "           # print(i,j,len(ovejas1[i][j]))\n",
    "                \n",
    "        if len(lobos2[i][j])<200: #extiende listas que fueron cortadas\n",
    "            lobos2[i][j].extend(list(np.nan * np.array(range(200 - len(lobos2[i][j])))))\n",
    "                \n",
    "#            print(i,j,k,ovejas[i][j][k],lobos[i][j][k])"
   ]
  },
  {
   "cell_type": "code",
   "execution_count": 152,
   "metadata": {},
   "outputs": [
    {
     "name": "stderr",
     "output_type": "stream",
     "text": [
      "/Users/danieltoro/anaconda3/lib/python3.7/site-packages/ipykernel_launcher.py:11: RuntimeWarning: Mean of empty slice\n",
      "  # This is added back by InteractiveShellApp.init_path()\n",
      "/Users/danieltoro/anaconda3/lib/python3.7/site-packages/ipykernel_launcher.py:14: RuntimeWarning: Mean of empty slice\n",
      "  \n"
     ]
    }
   ],
   "source": [
    "lobos = []\n",
    "ovejas = []\n",
    "\n",
    "for i in range(len(P)):\n",
    "    lobos.append([])\n",
    "    ovejas.append([])\n",
    "    \n",
    "    lobos_i = np.array(lobos2[i])\n",
    "    ovejas_i = np.array(ovejas2[i])\n",
    "    \n",
    "    av_lobos_i = np.nanmean(lobos_i,axis=0)\n",
    "    lobos[i]=av_lobos_i\n",
    "    \n",
    "    av_ovejas_i = np.nanmean(ovejas_i,axis=0)\n",
    "    ovejas[i]=av_ovejas_i"
   ]
  },
  {
   "cell_type": "code",
   "execution_count": 155,
   "metadata": {
    "scrolled": true
   },
   "outputs": [
    {
     "data": {
      "text/plain": [
       "<matplotlib.legend.Legend at 0x13d927710>"
      ]
     },
     "execution_count": 155,
     "metadata": {},
     "output_type": "execute_result"
    },
    {
     "data": {
      "image/png": "[encoded data removed]",
      "text/plain": [
       "<Figure size 432x288 with 4 Axes>"
      ]
     },
     "metadata": {
      "needs_background": "light"
     },
     "output_type": "display_data"
    }
   ],
   "source": [
    "plt.subplot(2,3,1)\n",
    "plt.plot(ovejas[2], label = \"ovejas\")\n",
    "plt.plot(lobos[2], label = \"lobos\")\n",
    "plt.title('0.1')\n",
    "plt.legend()\n",
    "\n",
    "plt.subplot(2,2,2)\n",
    "plt.plot(ovejas[5], label = \"ovejas\")\n",
    "plt.plot(lobos[5], label = \"lobos\")\n",
    "plt.title('0.25')\n",
    "plt.legend()\n",
    "\n",
    "plt.subplot(2,2,3)\n",
    "plt.plot(ovejas[10], label = \"ovejas\")\n",
    "plt.plot(lobos[10], label = \"lobos\")\n",
    "plt.title('0.5')\n",
    "plt.legend()\n",
    "\n",
    "plt.subplot(2,2,4)\n",
    "plt.plot(ovejas[15], label = \"ovejas\")\n",
    "plt.plot(lobos[15], label = \"lobos\")\n",
    "plt.title('0.75')\n",
    "plt.legend()"
   ]
  },
  {
   "cell_type": "markdown",
   "metadata": {},
   "source": [
    "# Variando la proporción inicial entre lobos y ovejas"
   ]
  },
  {
   "cell_type": "code",
   "execution_count": 170,
   "metadata": {},
   "outputs": [
    {
     "name": "stdout",
     "output_type": "stream",
     "text": [
      "0\n",
      "1\n",
      "2\n",
      "3\n",
      "4\n",
      "5\n",
      "6\n",
      "7\n",
      "8\n",
      "9\n",
      "10\n",
      "11\n",
      "12\n",
      "13\n",
      "14\n",
      "15\n",
      "16\n",
      "17\n",
      "18\n",
      "19\n",
      "20\n",
      "21\n",
      "22\n",
      "23\n",
      "24\n",
      "25\n",
      "26\n",
      "27\n",
      "28\n",
      "29\n",
      "30\n",
      "31\n",
      "32\n",
      "33\n",
      "34\n",
      "35\n",
      "36\n",
      "37\n",
      "38\n",
      "39\n"
     ]
    }
   ],
   "source": [
    "## VARIAR PROPORCIONES\n",
    "\n",
    "T = 200 #horizonte temporal\n",
    "N = np.array(range(1,41)) # número de lobos\n",
    "M = np.sort(np.array(range(1,41)))[::-1] # número de ovejas \n",
    "\n",
    "\n",
    "#tamaño de la grilla\n",
    "width = 10  \n",
    "heigh = 10 \n",
    "\n",
    "ovejas3 = []\n",
    "lobos3 = []\n",
    "\n",
    "for i in range(len(N)):\n",
    "    print(i)\n",
    "    ovejas3.append([])\n",
    "    lobos3.append([])\n",
    "    for j in range(200):#30 modelos distintos \n",
    "        ovejas3[i].append([])\n",
    "        lobos3[i].append([])\n",
    "        model = Lobooveja(N[i],M[i], 10, 10,2,3)\n",
    "        for k in range(T):\n",
    "            model.step()\n",
    "            ovejas3[i][j].append(0)\n",
    "            lobos3[i][j].append(0)\n",
    "            for a in model.schedule.agents:\n",
    "                if isinstance(a,Oveja): \n",
    "                    ovejas3[i][j][k]+=1\n",
    "                else:\n",
    "                    lobos3[i][j][k]+=1\n",
    "                    \n",
    "            if (ovejas3[i][j][k]>1000) or (lobos3[i][j][k]>1000):\n",
    "                break\n",
    "                \n",
    "        if len(ovejas3[i][j])<200: #extiende listas que fueron cortadas\n",
    "            ovejas3[i][j].extend(list(np.nan * np.array(range(200 - len(ovejas3[i][j])))))\n",
    "           # print(i,j,len(ovejas1[i][j]))\n",
    "                \n",
    "        if len(lobos3[i][j])<200: #extiende listas que fueron cortadas\n",
    "            lobos3[i][j].extend(list(np.nan * np.array(range(200 - len(lobos3[i][j])))))\n",
    "                \n",
    "#            print(i,j,k,ovejas[i][j][k],lobos[i][j][k])"
   ]
  },
  {
   "cell_type": "code",
   "execution_count": 173,
   "metadata": {},
   "outputs": [
    {
     "name": "stderr",
     "output_type": "stream",
     "text": [
      "/Users/danieltoro/anaconda3/lib/python3.7/site-packages/ipykernel_launcher.py:11: RuntimeWarning: Mean of empty slice\n",
      "  # This is added back by InteractiveShellApp.init_path()\n",
      "/Users/danieltoro/anaconda3/lib/python3.7/site-packages/ipykernel_launcher.py:14: RuntimeWarning: Mean of empty slice\n",
      "  \n"
     ]
    }
   ],
   "source": [
    "lobos = []\n",
    "ovejas = []\n",
    "\n",
    "for i in range(len(N)):\n",
    "    lobos.append([])\n",
    "    ovejas.append([])\n",
    "    \n",
    "    lobos_i = np.array(lobos3[i])\n",
    "    ovejas_i = np.array(ovejas3[i])\n",
    "    \n",
    "    av_lobos_i = np.nanmean(lobos_i,axis=0)\n",
    "    lobos[i]=av_lobos_i\n",
    "    \n",
    "    av_ovejas_i = np.nanmean(ovejas_i,axis=0)\n",
    "    ovejas[i]=av_ovejas_i"
   ]
  },
  {
   "cell_type": "code",
   "execution_count": 174,
   "metadata": {},
   "outputs": [
    {
     "data": {
      "text/plain": [
       "<matplotlib.legend.Legend at 0x142f97dd0>"
      ]
     },
     "execution_count": 174,
     "metadata": {},
     "output_type": "execute_result"
    },
    {
     "data": {
      "image/png": "[encoded data removed]",
      "text/plain": [
       "<Figure size 432x288 with 4 Axes>"
      ]
     },
     "metadata": {
      "needs_background": "light"
     },
     "output_type": "display_data"
    }
   ],
   "source": [
    "plt.subplot(2,3,1)\n",
    "plt.plot(ovejas[5], label = \"ovejas\")\n",
    "plt.plot(lobos[5], label = \"lobos\")\n",
    "plt.title('5 lobos 35 ovejas')\n",
    "plt.legend()\n",
    "\n",
    "plt.subplot(2,2,2)\n",
    "plt.plot(ovejas[15], label = \"ovejas\")\n",
    "plt.plot(lobos[15], label = \"lobos\")\n",
    "plt.title('15 lobos 25 ovejas')\n",
    "plt.legend()\n",
    "\n",
    "plt.subplot(2,2,3)\n",
    "plt.plot(ovejas[25], label = \"ovejas\")\n",
    "plt.plot(lobos[25], label = \"lobos\")\n",
    "plt.title('25 ovejas 15 lobos')\n",
    "plt.legend()\n",
    "\n",
    "plt.subplot(2,2,4)\n",
    "plt.plot(ovejas[35], label = \"ovejas\")\n",
    "plt.plot(lobos[35], label = \"lobos\")\n",
    "plt.title('35 ovejas 5 lobos')\n",
    "plt.legend()"
   ]
  },
  {
   "cell_type": "code",
   "execution_count": null,
   "metadata": {},
   "outputs": [],
   "source": []
  }
 ],
 "metadata": {
  "kernelspec": {
   "display_name": "Python 3",
   "language": "python",
   "name": "python3"
  },
  "language_info": {
   "codemirror_mode": {
    "name": "ipython",
    "version": 3
   },
   "file_extension": ".py",
   "mimetype": "text/x-python",
   "name": "python",
   "nbconvert_exporter": "python",
   "pygments_lexer": "ipython3",
   "version": "3.7.4"
  }
 },
 "nbformat": 4,
 "nbformat_minor": 2
}
