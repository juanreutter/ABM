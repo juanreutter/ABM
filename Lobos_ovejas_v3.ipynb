{
 "cells": [
  {
   "cell_type": "code",
   "execution_count": 66,
   "metadata": {},
   "outputs": [],
   "source": [
    "from mesa import Agent, Model\n",
    "from mesa.space import MultiGrid\n",
    "from mesa.time import RandomActivation\n",
    "import matplotlib.pyplot as plt\n",
    "import numpy as np\n",
    "%matplotlib inline"
   ]
  },
  {
   "cell_type": "code",
   "execution_count": 67,
   "metadata": {},
   "outputs": [],
   "source": [
    "class Lobo(Agent):\n",
    "    # Agentes que se comen a las ovejas.\n",
    "    def __init__(self, unique_id, pos,e,model):\n",
    "        # la clase agente guarda los ids y los enlaza con el modelo \n",
    "        super().__init__(unique_id,model)\n",
    "        # lobos tienen energia, una posicion y una probabilidad de reproducirse\n",
    "        self.energia = e \n",
    "        self.pos = pos\n",
    "    \n",
    "    def move(self):\n",
    "        # get_neighbourhood es utilidad de mesa pa devolver los vecinos\n",
    "        possible_steps = self.model.grid.get_neighborhood(\n",
    "            self.pos,\n",
    "            moore=False,\n",
    "            include_center=False)\n",
    "        new_position = self.random.choice(possible_steps)\n",
    "        self.model.grid.move_agent(self, new_position)\n",
    "        \n",
    "    def step(self):\n",
    "        self.move()\n",
    "         \n",
    "        # comerse alguna oveja que este en su grilla \n",
    "        cellmates = self.model.grid.get_cell_list_contents([self.pos])\n",
    "        sheep = [obj for obj in cellmates if isinstance(obj, Oveja)]\n",
    "        if len(sheep)>0: \n",
    "            victima = self.random.choice(sheep)\n",
    "            self.model.grid._remove_agent(self.pos, victima)\n",
    "            self.model.schedule.remove(victima)\n",
    "            self.energia += 10\n",
    "            \n",
    "        #si no tengo energia, muero \n",
    "        self.energia -= 1\n",
    "        if self.energia < 1: \n",
    "            self.model.grid._remove_agent(self.pos, self)\n",
    "            self.model.schedule.remove(self)\n",
    "            return"
   ]
  },
  {
   "cell_type": "code",
   "execution_count": 68,
   "metadata": {},
   "outputs": [],
   "source": [
    "class Oveja(Agent):\n",
    "    def __init__(self, unique_id,pos,e,prob_rep, model):\n",
    "        super().__init__(unique_id, model)\n",
    "        self.pos = pos\n",
    "        self.energia = e \n",
    "        self.prob_rep = prob_rep\n",
    "\n",
    "    def move(self):\n",
    "        possible_steps = self.model.grid.get_neighborhood(\n",
    "            self.pos,\n",
    "            moore=False,\n",
    "            include_center=False)\n",
    "        new_position = self.random.choice(possible_steps)\n",
    "        self.model.grid.move_agent(self, new_position)\n",
    "        \n",
    "    def step(self):\n",
    "        self.move()\n",
    "        \n",
    "        cellmates = self.model.grid.get_cell_list_contents([self.pos])\n",
    "        pasto = [obj for obj in cellmates if isinstance(obj, Pasto)]\n",
    "        if len(pasto)>0: \n",
    "            comida = self.random.choice(pasto)\n",
    "            self.model.grid._remove_agent(self.pos, comida)\n",
    "            self.model.schedule.remove(comida)\n",
    "            self.energia += 10\n",
    "            \n",
    "        #tener hijos\n",
    "        if self.model.random.randint(1,10) < self.prob_rep:  #probabilidad de reproducirse \n",
    "            self.energia /= 2\n",
    "            hija = Oveja(self.model.next_id(),self.pos,self.energia,self.prob_rep,self.model)\n",
    "            self.model.grid.place_agent(hija, hija.pos)\n",
    "            self.model.schedule.add(hija)\n",
    "            \n",
    "        self.energia -= 1\n",
    "        if self.energia < 1: \n",
    "            self.model.grid._remove_agent(self.pos, self)\n",
    "            self.model.schedule.remove(self)\n",
    "            return"
   ]
  },
  {
   "cell_type": "code",
   "execution_count": 69,
   "metadata": {},
   "outputs": [],
   "source": [
    "class Pasto(Agent):\n",
    "    def __init__(self,unique_id,pos,model):\n",
    "        super().__init__(unique_id,model)\n",
    "        self.pos = pos"
   ]
  },
  {
   "cell_type": "code",
   "execution_count": 81,
   "metadata": {},
   "outputs": [],
   "source": [
    "class Lobooveja(Model):\n",
    "    def __init__(self, N, M, O, width, height,prob_lobos,prob_pasto,p_rep_o):\n",
    "        self.num_lobos = N\n",
    "        self.num_ovejas = M\n",
    "        self.num_pastos = O\n",
    "        self.prob_lobos = prob_lobos\n",
    "        self.prob_pasto = prob_pasto\n",
    "        self.p_rep_o = p_rep_o\n",
    "        self.grid = MultiGrid(width, height, True)\n",
    "        self.schedule = RandomActivation(self)\n",
    "        self.current_id = 0\n",
    "        \n",
    "        # Crear lobos\n",
    "        for i in range(self.num_lobos):\n",
    "            x = self.random.randrange(self.grid.width)\n",
    "            y = self.random.randrange(self.grid.height)\n",
    "            l = Lobo(self.next_id(),(x,y),15,self) # 15 es la energía \n",
    "            self.schedule.add(l)\n",
    "            # Add the agent to a random grid cell\n",
    "            self.grid.place_agent(l, (x, y))\n",
    "            \n",
    "        # Crear ovejas\n",
    "        for i in range(self.num_ovejas):\n",
    "            x = self.random.randrange(self.grid.width)\n",
    "            y = self.random.randrange(self.grid.height)\n",
    "            o = Oveja(self.next_id(),(x,y),15,self.p_rep_o,self) # 15 es la energía\n",
    "            self.schedule.add(o)\n",
    "            # Add the agent to a random grid cell\n",
    "            self.grid.place_agent(o, (x, y)) \n",
    "    \n",
    "        # Crear pasto\n",
    "        for i in range(self.num_pastos):\n",
    "            x = self.random.randrange(self.grid.width)\n",
    "            y = self.random.randrange(self.grid.height)\n",
    "            p = Pasto(self.next_id(),(x,y),self)\n",
    "            self.schedule.add(p)\n",
    "            self.grid.place_agent(p, (x, y))\n",
    "            \n",
    "    def step(self):\n",
    "        self.schedule.step()\n",
    "  \n",
    "    \n",
    "    def create(self):\n",
    "        if np.random.randint(1,10) < self.prob_lobos:\n",
    "            for i in range(3):\n",
    "                x = self.random.randrange(self.grid.width)\n",
    "                y = self.random.randrange(self.grid.height)\n",
    "                l = Lobo(self.next_id(),(x,y),15,self)\n",
    "                self.schedule.add(l)\n",
    "                self.grid.place_agent(l, (x, y))\n",
    "        \n",
    "        if np.random.randint(1,10) < self.prob_pasto:\n",
    "            for i in range(5):\n",
    "                x = self.random.randrange(self.grid.width)\n",
    "                y = self.random.randrange(self.grid.height)\n",
    "                p = Pasto(self.next_id(),(x,y),self)\n",
    "                self.schedule.add(p)   \n",
    "                self.grid.place_agent(p, (x, y))"
   ]
  },
  {
   "cell_type": "code",
   "execution_count": 91,
   "metadata": {},
   "outputs": [],
   "source": [
    "T = 400 #horizonte temporal\n",
    "N = 30 # número de lobos\n",
    "M = 10 # número de ovejas \n",
    "O = 200\n",
    "\n",
    "#tamaño de la grilla\n",
    "width = 10  \n",
    "height = 10 \n",
    "\n",
    "ovejas = []\n",
    "lobos = []\n",
    "\n",
    "for j in range(4): #4 modelos distintos \n",
    "    ovejas.append([])\n",
    "    lobos.append([])\n",
    "    model = Lobooveja(N,M,O,width, height,1,6,5)\n",
    "    for i in range(T):\n",
    "        model.step()\n",
    "        model.create()\n",
    "        ovejas[j].append(0)\n",
    "        lobos[j].append(0)\n",
    "        for a in model.schedule.agents:\n",
    "            if isinstance(a,Oveja): \n",
    "                ovejas[j][i]+=1\n",
    "            elif isinstance(a,Lobo):\n",
    "                lobos[j][i]+=1"
   ]
  },
  {
   "cell_type": "code",
   "execution_count": 92,
   "metadata": {},
   "outputs": [
    {
     "data": {
      "text/plain": [
       "<matplotlib.legend.Legend at 0x11cfebfd0>"
      ]
     },
     "execution_count": 92,
     "metadata": {},
     "output_type": "execute_result"
    },
    {
     "data": {
      "image/png": "[encoded data removed]",
      "text/plain": [
       "<Figure size 432x288 with 4 Axes>"
      ]
     },
     "metadata": {
      "needs_background": "light"
     },
     "output_type": "display_data"
    }
   ],
   "source": [
    "plt.subplot(2,3,1)\n",
    "plt.plot(ovejas[0], label = \"ovejas\")\n",
    "plt.plot(lobos[0], label = \"lobos\")\n",
    "plt.legend()\n",
    "\n",
    "plt.subplot(2,2,2)\n",
    "plt.plot(ovejas[1], label = \"ovejas\")\n",
    "plt.plot(lobos[1], label = \"lobos\")\n",
    "plt.legend()\n",
    "\n",
    "plt.subplot(2,2,3)\n",
    "plt.plot(ovejas[2], label = \"ovejas\")\n",
    "plt.plot(lobos[2], label = \"lobos\")\n",
    "plt.legend()\n",
    "\n",
    "plt.subplot(2,2,4)\n",
    "plt.plot(ovejas[3], label = \"ovejas\")\n",
    "plt.plot(lobos[3], label = \"lobos\")\n",
    "plt.legend()"
   ]
  },
  {
   "cell_type": "code",
   "execution_count": null,
   "metadata": {},
   "outputs": [],
   "source": []
  },
  {
   "cell_type": "code",
   "execution_count": null,
   "metadata": {},
   "outputs": [],
   "source": []
  }
 ],
 "metadata": {
  "kernelspec": {
   "display_name": "Python 3",
   "language": "python",
   "name": "python3"
  },
  "language_info": {
   "codemirror_mode": {
    "name": "ipython",
    "version": 3
   },
   "file_extension": ".py",
   "mimetype": "text/x-python",
   "name": "python",
   "nbconvert_exporter": "python",
   "pygments_lexer": "ipython3",
   "version": "3.7.4"
  }
 },
 "nbformat": 4,
 "nbformat_minor": 2
}
